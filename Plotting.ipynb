{
 "cells": [
  {
   "cell_type": "code",
   "execution_count": null,
   "id": "5c24a102",
   "metadata": {},
   "outputs": [],
   "source": [
    "import pandas as pd\n",
    "import seaborn as sns\n",
    "import numpy as np\n",
    "import math\n",
    "import matplotlib.pyplot as plt"
   ]
  },
  {
   "cell_type": "code",
   "execution_count": null,
   "id": "513e74ae",
   "metadata": {},
   "outputs": [],
   "source": [
    "#Define the variables which will be used when importing the csv file.\n",
    "attr = 1\n",
    "exp = 1\n",
    "cov = 1\n",
    "snr = 2\n",
    "look = 2\n",
    "orth = 2"
   ]
  },
  {
   "cell_type": "code",
   "execution_count": null,
   "id": "783c0803",
   "metadata": {},
   "outputs": [],
   "source": [
    "#Convert the csv holding all of the data to a dataframe\n",
    "full_experiment_df = pd.read_csv('sequential_data_attr_'+\n",
    "                                 str(attr)+'_exp_'+str(exp)+'_cov_'+str(cov)+'_snr_'+str(snr)+'_look_'+str(look)+'_orth_'+str(orth)+'.csv')\n",
    "if attr == 1:\n",
    "    full_experiment_df['Methods'] = full_experiment_df.Method.map({0.0: \"OS\", 1.0: \"RB\",2.0: \"TS\",3.0: \"RC\"})\n",
    "if attr == 2:\n",
    "    full_experiment_df['Methods'] = full_experiment_df.Method.map({0.0: \"OS\", 1.0: \"RB\",2.0: \"RC\"})\n",
    "\n",
    "full_experiment_df['Question'] = full_experiment_df['Question'].astype(int)\n",
    "\n",
    "Sqrt_Det = np.sqrt(np.array(list(full_experiment_df['Det'])))\n",
    "\n",
    "full_experiment_df['Sqrt_Det'] = list(Sqrt_Det)\n",
    "\n",
    "Log_Sqrt_Det = np.log(np.sqrt(np.array(list(full_experiment_df['Det']))))\n",
    "\n",
    "full_experiment_df['Log_Sqrt_Det'] = list(Log_Sqrt_Det)"
   ]
  },
  {
   "cell_type": "code",
   "execution_count": null,
   "id": "3762ee81",
   "metadata": {},
   "outputs": [],
   "source": [
    "#Divide the min and max cases into two data frames.\n",
    "min_experiment_df = full_experiment_df[full_experiment_df['Min/Max'] == 0.0]\n",
    "\n",
    "max_experiment_df = full_experiment_df[full_experiment_df['Min/Max'] == 1.0]"
   ]
  },
  {
   "cell_type": "code",
   "execution_count": null,
   "id": "89cef164",
   "metadata": {},
   "outputs": [],
   "source": [
    "#Split min and max into questions 13-16 to see the effect of the last four questions\n",
    "\n",
    "min_13_16_experiment_df = min_experiment_df[(min_experiment_df['Question'] >= 13) & (min_experiment_df['Question'] <= 16)]\n",
    "\n",
    "max_13_16_experiment_df = max_experiment_df[(max_experiment_df['Question'] >= 13) & (max_experiment_df['Question'] <= 16)]"
   ]
  },
  {
   "cell_type": "code",
   "execution_count": null,
   "id": "80541729",
   "metadata": {},
   "outputs": [],
   "source": [
    "#Min case determinant\n",
    "if attr == 1:\n",
    "    fig = plt.figure()\n",
    "    sns.lineplot(data = min_experiment_df, x = 'Question',y = 'Sqrt_Det', hue = 'Methods',style = 'Methods', palette = 'deep').set(\n",
    "        title='Square Root of Determinant: Min Case')\n",
    "    #plt.legend(labels=[\"OS\",\"RB\",\"TS\",\"RC\"])\n",
    "    plt.ylabel('Sqrt Det')\n",
    "    plt.xlabel('Query')\n",
    "    fig.savefig('mincasedet_attr_'+str(attr)+'_exp_'+str(exp)+'_cov_'+str(cov)+'_snr_'+str(snr)+'_look_'+str(look)+'_orth_'+str(orth)+'.png',bbox_inches='tight')\n",
    "else:\n",
    "    fig = plt.figure()\n",
    "    sns.lineplot(data = min_experiment_df, x = 'Question',y = 'Sqrt Det', hue = 'Method', palette = 'deep').set(\n",
    "        title='Square Root of Determinant: Min Case')\n",
    "    #plt.legend(labels=[\"OS\",\"RB\",\"RC\"])\n",
    "    plt.ylabel('Sqrt Det')\n",
    "    plt.xlabel('Query')\n",
    "    fig.savefig('mincasedet_attr_'+str(attr)+'_exp_'+str(exp)+'_cov_'+str(cov)+'_snr_'+str(snr)+'_look_'+str(look)+'_orth_'+str(orth)+'.png',bbox_inches='tight')"
   ]
  },
  {
   "cell_type": "code",
   "execution_count": null,
   "id": "aab5ebb8",
   "metadata": {},
   "outputs": [],
   "source": [
    "#Min case last 4 questions\n",
    "if attr==1:\n",
    "    fig = plt.figure()\n",
    "    sns.lineplot(data = min_13_16_experiment_df, x = 'Question',y = 'Sqrt_Det', hue = 'Methods',style = 'Methods',palette = 'deep').set(\n",
    "        title='Square Root of Determinant (last 4 queries): Min Case')\n",
    "    #plt.legend(labels=[\"OS\",\"RB\",\"TS\",\"RC\"])\n",
    "    plt.ylabel('Sqrt Det')\n",
    "    plt.xlabel('Query')\n",
    "    plt.xticks([13, 14, 15, 16],['13', '14', '15','16'])\n",
    "    #plt.gca().xaxis.set_major_formatter(FuncFormatter(lambda x, _: int(x)))\n",
    "    fig.savefig('mincasedetlast4_attr_'+str(attr)+'_exp_'+str(exp)+'_cov_'+str(cov)+'_snr_'+str(snr)+'_look_'+str(look)+'_orth_'+str(orth)+'.png',bbox_inches='tight')\n",
    "else:\n",
    "    fig = plt.figure()\n",
    "    sns.lineplot(data = min_13_16_experiment_df, x = 'Question',y = 'Sqrt_Det', hue = 'Method',palette = 'deep').set(\n",
    "        title='Square Root of Determinant: Min Case')\n",
    "    #plt.legend(labels=[\"OS\",\"RB\",\"RC\"])\n",
    "    plt.ylabel('Sqrt Det')\n",
    "    plt.xlabel('Query')\n",
    "    plt.xticks([13, 14, 15, 16],['13', '14', '15','16'])\n",
    "    fig.savefig('mincasedetlast4_attr_'+str(attr)+'_exp_'+str(exp)+'_cov_'+str(cov)+'_snr_'+str(snr)+'_look_'+str(look)+'_orth_'+str(orth)+'.png',bbox_inches='tight')"
   ]
  },
  {
   "cell_type": "code",
   "execution_count": null,
   "id": "91095997",
   "metadata": {},
   "outputs": [],
   "source": [
    "#Max case determinant\n",
    "if attr==1:\n",
    "    fig = plt.figure()\n",
    "    sns.lineplot(data = max_experiment_df, x = 'Question',y = 'Sqrt_Det', hue = 'Methods',style = 'Methods',palette = 'deep').set(\n",
    "        title='Square Root of Determinant: Max Case')\n",
    "    #plt.legend(labels=[\"OS\",\"RB\",\"TS\",\"RC\"])\n",
    "    plt.ylabel('Sqrt Det')\n",
    "    plt.xlabel('Query')\n",
    "    fig.savefig('maxcasedet_attr_'+str(attr)+'_exp_'+str(exp)+'_cov_'+str(cov)+'_snr_'+str(snr)+'_look_'+str(look)+'_orth_'+str(orth)+'.png',bbox_inches='tight')\n",
    "else:\n",
    "    fig = plt.figure()\n",
    "    sns.lineplot(data = max_experiment_df, x = 'Question',y = 'Sqrt_Det', hue = 'Method',palette = 'deep').set(\n",
    "        title='Square Root of Determinant: Max Case')\n",
    "    #plt.legend(labels=[\"OS\",\"RB\",\"RC\"])\n",
    "    plt.ylabel('Sqrt Det')\n",
    "    plt.xlabel('Query')\n",
    "    fig.savefig('maxcasedet_attr_'+str(attr)+'_exp_'+str(exp)+'_cov_'+str(cov)+'_snr_'+str(snr)+'_look_'+str(look)+'_orth_'+str(orth)+'.png',bbox_inches='tight')"
   ]
  },
  {
   "cell_type": "code",
   "execution_count": null,
   "id": "1652e4dd",
   "metadata": {},
   "outputs": [],
   "source": [
    "#Max case last 4 questions\n",
    "if attr == 1:\n",
    "    fig = plt.figure()\n",
    "    sns.lineplot(data = max_13_16_experiment_df, x = 'Question',y = 'Sqrt_Det', hue = 'Methods',style = 'Methods',palette = 'deep').set(\n",
    "        title='Square Root of Determinant: Max Case')\n",
    "    #plt.legend(labels=[\"OS\",\"RB\",\"TS\",\"RC\"])\n",
    "    plt.ylabel('Sqrt Det')\n",
    "    plt.xlabel('Query')\n",
    "    plt.xticks([13, 14, 15, 16],['13', '14', '15','16'])\n",
    "    fig.savefig('maxcasedetlast4_attr_'+str(attr)+'_exp_'+str(exp)+'_cov_'+str(cov)+'_snr_'+str(snr)+'_look_'+str(look)+'_orth_'+str(orth)+'.png',bbox_inches='tight')\n",
    "else:\n",
    "    fig = plt.figure()\n",
    "    sns.lineplot(data = max_13_16_experiment_df, x = 'Question',y = 'Sqrt_Det', hue = 'Method',palette = 'deep').set(\n",
    "        title='Square Root of Determinant: Max Case')\n",
    "    #plt.legend(labels=[\"OS\",\"RB\",\"RC\"])\n",
    "    plt.ylabel('Sqrt Det')\n",
    "    plt.xlabel('Query')\n",
    "    fig.savefig('maxcasedetlast4_attr_'+str(attr)+'_exp_'+str(exp)+'_cov_'+str(cov)+'_snr_'+str(snr)+'_look_'+str(look)+'_orth_'+str(orth)+'.png',bbox_inches='tight')"
   ]
  },
  {
   "cell_type": "code",
   "execution_count": null,
   "id": "081b5cbd",
   "metadata": {},
   "outputs": [],
   "source": [
    "#Min case Norm_MSE\n",
    "if attr == 1:\n",
    "    fig = plt.figure()\n",
    "    sns.lineplot(data = min_experiment_df, x = 'Question',y = 'Norm_MSE', hue = 'Methods',style = 'Methods', palette = 'deep').set(\n",
    "        title='Normalized MSE: Min Case')\n",
    "    #plt.legend(labels=[\"OS\",\"RB\",\"TS\",\"RC\"])\n",
    "    plt.ylabel('Norm MSE')\n",
    "    plt.xlabel('Query')\n",
    "    fig.savefig('mincasenormmse'+str(attr)+'_exp_'+str(exp)+'_cov_'+str(cov)+'_snr_'+str(snr)+'_look_'+str(look)+'_orth_'+str(orth)+'.png',bbox_inches='tight')\n",
    "else:\n",
    "    fig = plt.figure()\n",
    "    sns.lineplot(data = min_experiment_df, x = 'Question',y = 'Norm_MSE', hue = 'Method', palette = 'deep').set(\n",
    "        title='Normalized MSE: Min Case')\n",
    "    #plt.legend(labels=[\"OS\",\"RB\",\"RC\"])\n",
    "    plt.ylabel('Norm MSE')\n",
    "    plt.xlabel('Query')\n",
    "    fig.savefig('mincasenormmse'+str(attr)+'_exp_'+str(exp)+'_cov_'+str(cov)+'_snr_'+str(snr)+'_look_'+str(look)+'_orth_'+str(orth)+'.png',bbox_inches='tight')"
   ]
  },
  {
   "cell_type": "code",
   "execution_count": null,
   "id": "1a349f4c",
   "metadata": {},
   "outputs": [],
   "source": [
    "#Max case Norm_MSE\n",
    "if attr == 1:\n",
    "    fig = plt.figure()\n",
    "    sns.lineplot(data = max_experiment_df, x = 'Question',y = 'Norm_MSE', hue = 'Methods',style = 'Methods',palette = 'deep').set(\n",
    "        title='Normalized MSE: Max Case')\n",
    "    #plt.legend(labels=[\"OS\",\"RB\",\"TS\",\"RC\"])\n",
    "    plt.ylabel('Norm MSE')\n",
    "    plt.xlabel('Query')\n",
    "    fig.savefig('maxcasenormmse'+str(attr)+'_exp_'+str(exp)+'_cov_'+str(cov)+'_snr_'+str(snr)+'_look_'+str(look)+'_orth_'+str(orth)+'.png',bbox_inches='tight')\n",
    "else:\n",
    "    fig = plt.figure()\n",
    "    sns.lineplot(data = max_experiment_df, x = 'Question',y = 'Norm_MSE', hue = 'Method',palette = 'deep').set(\n",
    "        title='Normalized MSE: Max Case')\n",
    "    #plt.legend(labels=[\"OS\",\"RB\",\"RC\"])\n",
    "    plt.ylabel('Norm MSE')\n",
    "    plt.xlabel('Query')\n",
    "    fig.savefig('maxcasenormmse'+str(attr)+'_exp_'+str(exp)+'_cov_'+str(cov)+'_snr_'+str(snr)+'_look_'+str(look)+'_orth_'+str(orth)+'.png',bbox_inches='tight')"
   ]
  }
 ],
 "metadata": {
  "kernelspec": {
   "display_name": "Python 3 (ipykernel)",
   "language": "python",
   "name": "python3"
  },
  "language_info": {
   "codemirror_mode": {
    "name": "ipython",
    "version": 3
   },
   "file_extension": ".py",
   "mimetype": "text/x-python",
   "name": "python",
   "nbconvert_exporter": "python",
   "pygments_lexer": "ipython3",
   "version": "3.9.18"
  }
 },
 "nbformat": 4,
 "nbformat_minor": 5
}
